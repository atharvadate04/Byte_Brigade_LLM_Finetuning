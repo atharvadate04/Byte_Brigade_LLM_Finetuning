{
 "cells": [
  {
   "cell_type": "markdown",
   "metadata": {},
   "source": [
    "NeuralChat is a customizable chat framework designed to create user own chatbot within few minutes on multiple architectures. This notebook is used to demonstrate how to build a talking chatbot on 4th Generation of Intel® Xeon® Scalable Processors Sapphire Rapids.\n",
    "\n",
    "The 4th Generation of Intel® Xeon® Scalable processor provides two instruction sets viz. AMX_BF16 and AMX_INT8 which provides acceleration for bfloat16 and int8 operations respectively."
   ]
  },
  {
   "cell_type": "markdown",
   "metadata": {},
   "source": [
    "# Prepare Environment"
   ]
  },
  {
   "cell_type": "markdown",
   "metadata": {},
   "source": [
    "To use this notebook we have to create a virtual environment using the venv\n",
    "Python comes with a built-in module called venv that allows you to create virtual environments."
   ]
  },
  {
   "cell_type": "markdown",
   "metadata": {},
   "source": [
    "!python3.10 -m venv itrex-1\n",
    "!source itrex-1/bin/activate\n",
    "Run these in terminal"
   ]
  },
  {
   "cell_type": "code",
   "execution_count": null,
   "metadata": {
    "scrolled": true
   },
   "outputs": [],
   "source": [
    "!pip install intel-extension-for-transformers"
   ]
  },
  {
   "cell_type": "markdown",
   "metadata": {},
   "source": [
    "Install intel extension for transformers:"
   ]
  },
  {
   "cell_type": "markdown",
   "metadata": {},
   "source": [
    "Install Requirements in terminal:"
   ]
  },
  {
   "cell_type": "code",
   "execution_count": null,
   "metadata": {},
   "outputs": [],
   "source": [
    "!git clone https://github.com/intel/intel-extension-for-transformers.git"
   ]
  },
  {
   "cell_type": "code",
   "execution_count": null,
   "metadata": {
    "scrolled": true
   },
   "outputs": [],
   "source": [
    "%cd ./intel-extension-for-transformers/intel_extension_for_transformers/neural_chat/\n",
    "!pip install -r requirements_cpu.txt\n",
    "%cd ../../../"
   ]
  },
  {
   "cell_type": "markdown",
   "metadata": {},
   "source": [
    "!python3 -m pip install jupyter ipykernel\n",
    "!python3 -m ipykernel install --name neural-chat --user\n",
    "By executing this in the terminal you can create a custom kernel that does not give \"Module Not Found\" error."
   ]
  },
  {
   "cell_type": "markdown",
   "metadata": {},
   "source": [
    "huggingface-cli login"
   ]
  },
  {
   "cell_type": "markdown",
   "metadata": {},
   "source": [
    "# Build your chatbot 💻"
   ]
  },
  {
   "cell_type": "markdown",
   "metadata": {},
   "source": [
    "## Text Chat"
   ]
  },
  {
   "cell_type": "markdown",
   "metadata": {},
   "source": [
    "Giving NeuralChat the textual instruction, it will respond with the textual response."
   ]
  },
  {
   "cell_type": "code",
   "execution_count": null,
   "metadata": {},
   "outputs": [],
   "source": [
    "cd GenAI/intel-extension-for-transformers/intel_extension_for_transformers/neural_chat/docs/notebooks/intel-extension-for-transformers"
   ]
  },
  {
   "cell_type": "code",
   "execution_count": null,
   "metadata": {},
   "outputs": [],
   "source": [
    "# BF16 Optimization\n",
    "from intel_extension_for_transformers.neural_chat import build_chatbot, PipelineConfig\n",
    "from intel_extension_for_transformers.transformers import MixedPrecisionConfig\n",
    "config = PipelineConfig(optimization_config=MixedPrecisionConfig())\n",
    "chatbot = build_chatbot(config)\n",
    "response = chatbot.predict(query=\"What is a GPU?\")\n",
    "print(response)"
   ]
  },
  {
   "cell_type": "markdown",
   "metadata": {},
   "source": [
    "## Text Chat With Retrieval Plugin"
   ]
  },
  {
   "cell_type": "markdown",
   "metadata": {},
   "source": [
    "User could also leverage NeuralChat Retrieval plugin to do domain specific chat by feding with some documents like below:\n",
    "While installing dependencies, remember to download it for the virtual environment in terminal.\n",
    "Restart kernel once req. are installed"
   ]
  },
  {
   "cell_type": "code",
   "execution_count": 1,
   "metadata": {
    "scrolled": true
   },
   "outputs": [
    {
     "name": "stdout",
     "output_type": "stream",
     "text": [
      "/home/uc651c1f4b4c7f15e851413c0d49c8fa/Training/AI/GenAI/intel-extension-for-transformers/intel_extension_for_transformers/neural_chat/docs/notebooks/intel-extension-for-transformers/intel_extension_for_transformers/neural_chat/pipeline/plugins/retrieval\n"
     ]
    },
    {
     "name": "stderr",
     "output_type": "stream",
     "text": [
      "/home/uc651c1f4b4c7f15e851413c0d49c8fa/Training/AI/GenAI/intel-extension-for-transformers/intel_extension_for_transformers/neural_chat/docs/notebooks/itrex-1/lib/python3.10/site-packages/IPython/core/magics/osm.py:417: UserWarning: This is now an optional IPython functionality, setting dhist requires you to install the `pickleshare` library.\n",
      "  self.shell.db['dhist'] = compress_dhist(dhist)[-100:]\n"
     ]
    },
    {
     "name": "stdout",
     "output_type": "stream",
     "text": [
      "Defaulting to user installation because normal site-packages is not writeable\n",
      "Requirement already satisfied: beautifulsoup4 in /opt/intel/oneapi/intelpython/lib/python3.9/site-packages (from -r requirements.txt (line 1)) (4.12.3)\n",
      "Requirement already satisfied: chromadb==0.4.15 in /home/uc651c1f4b4c7f15e851413c0d49c8fa/.local/lib/python3.9/site-packages (from -r requirements.txt (line 2)) (0.4.15)\n",
      "Requirement already satisfied: easyocr in /home/uc651c1f4b4c7f15e851413c0d49c8fa/.local/lib/python3.9/site-packages (from -r requirements.txt (line 3)) (1.7.1)\n",
      "Requirement already satisfied: FlagEmbedding in /home/uc651c1f4b4c7f15e851413c0d49c8fa/.local/lib/python3.9/site-packages (from -r requirements.txt (line 4)) (1.2.10)\n",
      "Requirement already satisfied: InstructorEmbedding in /home/uc651c1f4b4c7f15e851413c0d49c8fa/.local/lib/python3.9/site-packages (from -r requirements.txt (line 5)) (1.0.1)\n",
      "Requirement already satisfied: langchain==0.1.11 in /home/uc651c1f4b4c7f15e851413c0d49c8fa/.local/lib/python3.9/site-packages (from -r requirements.txt (line 6)) (0.1.11)\n",
      "Requirement already satisfied: langchain-community==0.0.27 in /home/uc651c1f4b4c7f15e851413c0d49c8fa/.local/lib/python3.9/site-packages (from -r requirements.txt (line 7)) (0.0.27)\n",
      "Requirement already satisfied: langchain_core==0.1.35 in /home/uc651c1f4b4c7f15e851413c0d49c8fa/.local/lib/python3.9/site-packages (from -r requirements.txt (line 8)) (0.1.35)\n",
      "Requirement already satisfied: langid in /home/uc651c1f4b4c7f15e851413c0d49c8fa/.local/lib/python3.9/site-packages (from -r requirements.txt (line 9)) (1.1.6)\n",
      "Requirement already satisfied: markdown in /home/uc651c1f4b4c7f15e851413c0d49c8fa/.local/lib/python3.9/site-packages (from -r requirements.txt (line 10)) (3.6)\n",
      "Requirement already satisfied: openpyxl in /home/uc651c1f4b4c7f15e851413c0d49c8fa/.local/lib/python3.9/site-packages (from -r requirements.txt (line 11)) (3.1.5)\n",
      "Requirement already satisfied: PyMuPDF in /home/uc651c1f4b4c7f15e851413c0d49c8fa/.local/lib/python3.9/site-packages (from -r requirements.txt (line 12)) (1.24.7)\n",
      "Requirement already satisfied: python-docx in /home/uc651c1f4b4c7f15e851413c0d49c8fa/.local/lib/python3.9/site-packages (from -r requirements.txt (line 13)) (1.1.2)\n",
      "Requirement already satisfied: qdrant-client==1.9.0 in /home/uc651c1f4b4c7f15e851413c0d49c8fa/.local/lib/python3.9/site-packages (from -r requirements.txt (line 14)) (1.9.0)\n",
      "Requirement already satisfied: rank_bm25 in /home/uc651c1f4b4c7f15e851413c0d49c8fa/.local/lib/python3.9/site-packages (from -r requirements.txt (line 15)) (0.2.2)\n",
      "Requirement already satisfied: scikit-learn in /opt/intel/oneapi/intelpython/lib/python3.9/site-packages (from -r requirements.txt (line 16)) (1.4.0)\n",
      "Requirement already satisfied: sentence-transformers==2.3.1 in /home/uc651c1f4b4c7f15e851413c0d49c8fa/.local/lib/python3.9/site-packages (from -r requirements.txt (line 17)) (2.3.1)\n",
      "Requirement already satisfied: torch==2.3.0 in /home/uc651c1f4b4c7f15e851413c0d49c8fa/.local/lib/python3.9/site-packages (from -r requirements.txt (line 18)) (2.3.0)\n",
      "Requirement already satisfied: torchaudio==2.3.0 in /home/uc651c1f4b4c7f15e851413c0d49c8fa/.local/lib/python3.9/site-packages (from -r requirements.txt (line 19)) (2.3.0)\n",
      "Requirement already satisfied: unstructured[all-docs] in /home/uc651c1f4b4c7f15e851413c0d49c8fa/.local/lib/python3.9/site-packages (from -r requirements.txt (line 20)) (0.14.9)\n",
      "Requirement already satisfied: requests>=2.28 in /home/uc651c1f4b4c7f15e851413c0d49c8fa/.local/lib/python3.9/site-packages (from chromadb==0.4.15->-r requirements.txt (line 2)) (2.32.3)\n",
      "Requirement already satisfied: pydantic>=1.9 in /home/uc651c1f4b4c7f15e851413c0d49c8fa/.local/lib/python3.9/site-packages (from chromadb==0.4.15->-r requirements.txt (line 2)) (1.10.13)\n",
      "Requirement already satisfied: chroma-hnswlib==0.7.3 in /home/uc651c1f4b4c7f15e851413c0d49c8fa/.local/lib/python3.9/site-packages (from chromadb==0.4.15->-r requirements.txt (line 2)) (0.7.3)\n",
      "Requirement already satisfied: fastapi>=0.95.2 in /home/uc651c1f4b4c7f15e851413c0d49c8fa/.local/lib/python3.9/site-packages (from chromadb==0.4.15->-r requirements.txt (line 2)) (0.111.0)\n",
      "Requirement already satisfied: uvicorn>=0.18.3 in /home/uc651c1f4b4c7f15e851413c0d49c8fa/.local/lib/python3.9/site-packages (from uvicorn[standard]>=0.18.3->chromadb==0.4.15->-r requirements.txt (line 2)) (0.30.1)\n",
      "Requirement already satisfied: posthog>=2.4.0 in /home/uc651c1f4b4c7f15e851413c0d49c8fa/.local/lib/python3.9/site-packages (from chromadb==0.4.15->-r requirements.txt (line 2)) (3.5.0)\n",
      "Requirement already satisfied: typing-extensions>=4.5.0 in /home/uc651c1f4b4c7f15e851413c0d49c8fa/.local/lib/python3.9/site-packages (from chromadb==0.4.15->-r requirements.txt (line 2)) (4.12.2)\n",
      "Requirement already satisfied: pulsar-client>=3.1.0 in /home/uc651c1f4b4c7f15e851413c0d49c8fa/.local/lib/python3.9/site-packages (from chromadb==0.4.15->-r requirements.txt (line 2)) (3.5.0)\n",
      "Requirement already satisfied: onnxruntime>=1.14.1 in /home/uc651c1f4b4c7f15e851413c0d49c8fa/.local/lib/python3.9/site-packages (from chromadb==0.4.15->-r requirements.txt (line 2)) (1.18.1)\n",
      "Requirement already satisfied: opentelemetry-api>=1.2.0 in /home/uc651c1f4b4c7f15e851413c0d49c8fa/.local/lib/python3.9/site-packages (from chromadb==0.4.15->-r requirements.txt (line 2)) (1.25.0)\n",
      "Requirement already satisfied: opentelemetry-exporter-otlp-proto-grpc>=1.2.0 in /home/uc651c1f4b4c7f15e851413c0d49c8fa/.local/lib/python3.9/site-packages (from chromadb==0.4.15->-r requirements.txt (line 2)) (1.11.1)\n",
      "Requirement already satisfied: opentelemetry-sdk>=1.2.0 in /home/uc651c1f4b4c7f15e851413c0d49c8fa/.local/lib/python3.9/site-packages (from chromadb==0.4.15->-r requirements.txt (line 2)) (1.25.0)\n",
      "Requirement already satisfied: tokenizers>=0.13.2 in /home/uc651c1f4b4c7f15e851413c0d49c8fa/.local/lib/python3.9/site-packages (from chromadb==0.4.15->-r requirements.txt (line 2)) (0.19.1)\n",
      "Requirement already satisfied: pypika>=0.48.9 in /home/uc651c1f4b4c7f15e851413c0d49c8fa/.local/lib/python3.9/site-packages (from chromadb==0.4.15->-r requirements.txt (line 2)) (0.48.9)\n",
      "Requirement already satisfied: tqdm>=4.65.0 in /home/uc651c1f4b4c7f15e851413c0d49c8fa/.local/lib/python3.9/site-packages (from chromadb==0.4.15->-r requirements.txt (line 2)) (4.66.4)\n",
      "Requirement already satisfied: overrides>=7.3.1 in /opt/intel/oneapi/intelpython/lib/python3.9/site-packages (from chromadb==0.4.15->-r requirements.txt (line 2)) (7.7.0)\n",
      "Requirement already satisfied: importlib-resources in /opt/intel/oneapi/intelpython/lib/python3.9/site-packages (from chromadb==0.4.15->-r requirements.txt (line 2)) (6.1.1)\n",
      "Requirement already satisfied: grpcio>=1.58.0 in /home/uc651c1f4b4c7f15e851413c0d49c8fa/.local/lib/python3.9/site-packages (from chromadb==0.4.15->-r requirements.txt (line 2)) (1.64.1)\n",
      "Requirement already satisfied: bcrypt>=4.0.1 in /home/uc651c1f4b4c7f15e851413c0d49c8fa/.local/lib/python3.9/site-packages (from chromadb==0.4.15->-r requirements.txt (line 2)) (4.1.3)\n",
      "Requirement already satisfied: typer>=0.9.0 in /home/uc651c1f4b4c7f15e851413c0d49c8fa/.local/lib/python3.9/site-packages (from chromadb==0.4.15->-r requirements.txt (line 2)) (0.12.3)\n",
      "Requirement already satisfied: kubernetes>=28.1.0 in /home/uc651c1f4b4c7f15e851413c0d49c8fa/.local/lib/python3.9/site-packages (from chromadb==0.4.15->-r requirements.txt (line 2)) (30.1.0)\n",
      "Requirement already satisfied: tenacity>=8.2.3 in /home/uc651c1f4b4c7f15e851413c0d49c8fa/.local/lib/python3.9/site-packages (from chromadb==0.4.15->-r requirements.txt (line 2)) (8.5.0)\n",
      "Requirement already satisfied: numpy>=1.22.5 in /home/uc651c1f4b4c7f15e851413c0d49c8fa/.local/lib/python3.9/site-packages (from chromadb==0.4.15->-r requirements.txt (line 2)) (1.23.5)\n",
      "Requirement already satisfied: PyYAML>=5.3 in /opt/intel/oneapi/intelpython/lib/python3.9/site-packages (from langchain==0.1.11->-r requirements.txt (line 6)) (6.0.1)\n",
      "Requirement already satisfied: SQLAlchemy<3,>=1.4 in /home/uc651c1f4b4c7f15e851413c0d49c8fa/.local/lib/python3.9/site-packages (from langchain==0.1.11->-r requirements.txt (line 6)) (2.0.31)\n",
      "Requirement already satisfied: aiohttp<4.0.0,>=3.8.3 in /home/uc651c1f4b4c7f15e851413c0d49c8fa/.local/lib/python3.9/site-packages (from langchain==0.1.11->-r requirements.txt (line 6)) (3.9.5)\n",
      "Requirement already satisfied: async-timeout<5.0.0,>=4.0.0 in /home/uc651c1f4b4c7f15e851413c0d49c8fa/.local/lib/python3.9/site-packages (from langchain==0.1.11->-r requirements.txt (line 6)) (4.0.3)\n",
      "Requirement already satisfied: dataclasses-json<0.7,>=0.5.7 in /home/uc651c1f4b4c7f15e851413c0d49c8fa/.local/lib/python3.9/site-packages (from langchain==0.1.11->-r requirements.txt (line 6)) (0.6.7)\n",
      "Requirement already satisfied: jsonpatch<2.0,>=1.33 in /opt/intel/oneapi/intelpython/lib/python3.9/site-packages (from langchain==0.1.11->-r requirements.txt (line 6)) (1.33)\n",
      "Requirement already satisfied: langchain-text-splitters<0.1,>=0.0.1 in /home/uc651c1f4b4c7f15e851413c0d49c8fa/.local/lib/python3.9/site-packages (from langchain==0.1.11->-r requirements.txt (line 6)) (0.0.2)\n",
      "Requirement already satisfied: langsmith<0.2.0,>=0.1.17 in /home/uc651c1f4b4c7f15e851413c0d49c8fa/.local/lib/python3.9/site-packages (from langchain==0.1.11->-r requirements.txt (line 6)) (0.1.83)\n",
      "Requirement already satisfied: packaging<24.0,>=23.2 in /opt/intel/oneapi/intelpython/lib/python3.9/site-packages (from langchain_core==0.1.35->-r requirements.txt (line 8)) (23.2)\n",
      "Requirement already satisfied: grpcio-tools>=1.41.0 in /home/uc651c1f4b4c7f15e851413c0d49c8fa/.local/lib/python3.9/site-packages (from qdrant-client==1.9.0->-r requirements.txt (line 14)) (1.64.1)\n",
      "Requirement already satisfied: httpx>=0.20.0 in /opt/intel/oneapi/intelpython/lib/python3.9/site-packages (from httpx[http2]>=0.20.0->qdrant-client==1.9.0->-r requirements.txt (line 14)) (0.27.0)\n",
      "Requirement already satisfied: portalocker<3.0.0,>=2.7.0 in /home/uc651c1f4b4c7f15e851413c0d49c8fa/.local/lib/python3.9/site-packages (from qdrant-client==1.9.0->-r requirements.txt (line 14)) (2.10.0)\n",
      "Requirement already satisfied: urllib3<3,>=1.26.14 in /opt/intel/oneapi/intelpython/lib/python3.9/site-packages (from qdrant-client==1.9.0->-r requirements.txt (line 14)) (2.2.1)\n",
      "Requirement already satisfied: transformers<5.0.0,>=4.32.0 in /home/uc651c1f4b4c7f15e851413c0d49c8fa/.local/lib/python3.9/site-packages (from sentence-transformers==2.3.1->-r requirements.txt (line 17)) (4.41.2)\n",
      "Requirement already satisfied: scipy in /opt/intel/oneapi/intelpython/lib/python3.9/site-packages (from sentence-transformers==2.3.1->-r requirements.txt (line 17)) (1.10.1)\n",
      "Requirement already satisfied: nltk in /home/uc651c1f4b4c7f15e851413c0d49c8fa/.local/lib/python3.9/site-packages (from sentence-transformers==2.3.1->-r requirements.txt (line 17)) (3.8.1)\n",
      "Requirement already satisfied: sentencepiece in /home/uc651c1f4b4c7f15e851413c0d49c8fa/.local/lib/python3.9/site-packages (from sentence-transformers==2.3.1->-r requirements.txt (line 17)) (0.2.0)\n",
      "Requirement already satisfied: huggingface-hub>=0.15.1 in /home/uc651c1f4b4c7f15e851413c0d49c8fa/.local/lib/python3.9/site-packages (from sentence-transformers==2.3.1->-r requirements.txt (line 17)) (0.23.4)\n",
      "Requirement already satisfied: Pillow in /opt/intel/oneapi/intelpython/lib/python3.9/site-packages (from sentence-transformers==2.3.1->-r requirements.txt (line 17)) (10.2.0)\n",
      "Requirement already satisfied: filelock in /home/uc651c1f4b4c7f15e851413c0d49c8fa/.local/lib/python3.9/site-packages (from torch==2.3.0->-r requirements.txt (line 18)) (3.15.4)\n",
      "Requirement already satisfied: sympy in /home/uc651c1f4b4c7f15e851413c0d49c8fa/.local/lib/python3.9/site-packages (from torch==2.3.0->-r requirements.txt (line 18)) (1.12.1)\n",
      "Requirement already satisfied: networkx in /home/uc651c1f4b4c7f15e851413c0d49c8fa/.local/lib/python3.9/site-packages (from torch==2.3.0->-r requirements.txt (line 18)) (3.2.1)\n",
      "Requirement already satisfied: jinja2 in /opt/intel/oneapi/intelpython/lib/python3.9/site-packages (from torch==2.3.0->-r requirements.txt (line 18)) (3.1.3)\n",
      "Requirement already satisfied: fsspec in /home/uc651c1f4b4c7f15e851413c0d49c8fa/.local/lib/python3.9/site-packages (from torch==2.3.0->-r requirements.txt (line 18)) (2024.5.0)\n",
      "Requirement already satisfied: nvidia-cuda-nvrtc-cu12==12.1.105 in /home/uc651c1f4b4c7f15e851413c0d49c8fa/.local/lib/python3.9/site-packages (from torch==2.3.0->-r requirements.txt (line 18)) (12.1.105)\n",
      "Requirement already satisfied: nvidia-cuda-runtime-cu12==12.1.105 in /home/uc651c1f4b4c7f15e851413c0d49c8fa/.local/lib/python3.9/site-packages (from torch==2.3.0->-r requirements.txt (line 18)) (12.1.105)\n",
      "Requirement already satisfied: nvidia-cuda-cupti-cu12==12.1.105 in /home/uc651c1f4b4c7f15e851413c0d49c8fa/.local/lib/python3.9/site-packages (from torch==2.3.0->-r requirements.txt (line 18)) (12.1.105)\n",
      "Requirement already satisfied: nvidia-cudnn-cu12==8.9.2.26 in /home/uc651c1f4b4c7f15e851413c0d49c8fa/.local/lib/python3.9/site-packages (from torch==2.3.0->-r requirements.txt (line 18)) (8.9.2.26)\n",
      "Requirement already satisfied: nvidia-cublas-cu12==12.1.3.1 in /home/uc651c1f4b4c7f15e851413c0d49c8fa/.local/lib/python3.9/site-packages (from torch==2.3.0->-r requirements.txt (line 18)) (12.1.3.1)\n",
      "Requirement already satisfied: nvidia-cufft-cu12==11.0.2.54 in /home/uc651c1f4b4c7f15e851413c0d49c8fa/.local/lib/python3.9/site-packages (from torch==2.3.0->-r requirements.txt (line 18)) (11.0.2.54)\n",
      "Requirement already satisfied: nvidia-curand-cu12==10.3.2.106 in /home/uc651c1f4b4c7f15e851413c0d49c8fa/.local/lib/python3.9/site-packages (from torch==2.3.0->-r requirements.txt (line 18)) (10.3.2.106)\n",
      "Requirement already satisfied: nvidia-cusolver-cu12==11.4.5.107 in /home/uc651c1f4b4c7f15e851413c0d49c8fa/.local/lib/python3.9/site-packages (from torch==2.3.0->-r requirements.txt (line 18)) (11.4.5.107)\n",
      "Requirement already satisfied: nvidia-cusparse-cu12==12.1.0.106 in /home/uc651c1f4b4c7f15e851413c0d49c8fa/.local/lib/python3.9/site-packages (from torch==2.3.0->-r requirements.txt (line 18)) (12.1.0.106)\n",
      "Requirement already satisfied: nvidia-nccl-cu12==2.20.5 in /home/uc651c1f4b4c7f15e851413c0d49c8fa/.local/lib/python3.9/site-packages (from torch==2.3.0->-r requirements.txt (line 18)) (2.20.5)\n",
      "Requirement already satisfied: nvidia-nvtx-cu12==12.1.105 in /home/uc651c1f4b4c7f15e851413c0d49c8fa/.local/lib/python3.9/site-packages (from torch==2.3.0->-r requirements.txt (line 18)) (12.1.105)\n",
      "Requirement already satisfied: triton==2.3.0 in /home/uc651c1f4b4c7f15e851413c0d49c8fa/.local/lib/python3.9/site-packages (from torch==2.3.0->-r requirements.txt (line 18)) (2.3.0)\n",
      "Requirement already satisfied: nvidia-nvjitlink-cu12 in /home/uc651c1f4b4c7f15e851413c0d49c8fa/.local/lib/python3.9/site-packages (from nvidia-cusolver-cu12==11.4.5.107->torch==2.3.0->-r requirements.txt (line 18)) (12.5.82)\n",
      "Requirement already satisfied: soupsieve>1.2 in /opt/intel/oneapi/intelpython/lib/python3.9/site-packages (from beautifulsoup4->-r requirements.txt (line 1)) (2.5)\n",
      "Requirement already satisfied: torchvision>=0.5 in /home/uc651c1f4b4c7f15e851413c0d49c8fa/.local/lib/python3.9/site-packages (from easyocr->-r requirements.txt (line 3)) (0.18.0)\n",
      "Requirement already satisfied: opencv-python-headless in /home/uc651c1f4b4c7f15e851413c0d49c8fa/.local/lib/python3.9/site-packages (from easyocr->-r requirements.txt (line 3)) (4.10.0.84)\n",
      "Requirement already satisfied: scikit-image in /home/uc651c1f4b4c7f15e851413c0d49c8fa/.local/lib/python3.9/site-packages (from easyocr->-r requirements.txt (line 3)) (0.24.0)\n",
      "Requirement already satisfied: python-bidi in /home/uc651c1f4b4c7f15e851413c0d49c8fa/.local/lib/python3.9/site-packages (from easyocr->-r requirements.txt (line 3)) (0.4.2)\n",
      "Requirement already satisfied: Shapely in /home/uc651c1f4b4c7f15e851413c0d49c8fa/.local/lib/python3.9/site-packages (from easyocr->-r requirements.txt (line 3)) (2.0.4)\n",
      "Requirement already satisfied: pyclipper in /home/uc651c1f4b4c7f15e851413c0d49c8fa/.local/lib/python3.9/site-packages (from easyocr->-r requirements.txt (line 3)) (1.3.0.post5)\n",
      "Requirement already satisfied: ninja in /home/uc651c1f4b4c7f15e851413c0d49c8fa/.local/lib/python3.9/site-packages (from easyocr->-r requirements.txt (line 3)) (1.11.1.1)\n",
      "Requirement already satisfied: datasets in /home/uc651c1f4b4c7f15e851413c0d49c8fa/.local/lib/python3.9/site-packages (from FlagEmbedding->-r requirements.txt (line 4)) (2.20.0)\n",
      "Requirement already satisfied: accelerate>=0.20.1 in /home/uc651c1f4b4c7f15e851413c0d49c8fa/.local/lib/python3.9/site-packages (from FlagEmbedding->-r requirements.txt (line 4)) (0.28.0)\n",
      "Requirement already satisfied: importlib-metadata>=4.4 in /opt/intel/oneapi/intelpython/lib/python3.9/site-packages (from markdown->-r requirements.txt (line 10)) (7.0.2)\n",
      "Requirement already satisfied: et-xmlfile in /home/uc651c1f4b4c7f15e851413c0d49c8fa/.local/lib/python3.9/site-packages (from openpyxl->-r requirements.txt (line 11)) (1.1.0)\n",
      "Requirement already satisfied: PyMuPDFb==1.24.6 in /home/uc651c1f4b4c7f15e851413c0d49c8fa/.local/lib/python3.9/site-packages (from PyMuPDF->-r requirements.txt (line 12)) (1.24.6)\n",
      "Requirement already satisfied: lxml>=3.1.0 in /home/uc651c1f4b4c7f15e851413c0d49c8fa/.local/lib/python3.9/site-packages (from python-docx->-r requirements.txt (line 13)) (5.2.2)\n",
      "Requirement already satisfied: joblib>=1.2.0 in /opt/intel/oneapi/intelpython/lib/python3.9/site-packages (from scikit-learn->-r requirements.txt (line 16)) (1.3.2)\n",
      "Requirement already satisfied: threadpoolctl>=2.0.0 in /opt/intel/oneapi/intelpython/lib/python3.9/site-packages (from scikit-learn->-r requirements.txt (line 16)) (3.3.0)\n",
      "Requirement already satisfied: chardet in /home/uc651c1f4b4c7f15e851413c0d49c8fa/.local/lib/python3.9/site-packages (from unstructured[all-docs]->-r requirements.txt (line 20)) (5.2.0)\n",
      "Requirement already satisfied: filetype in /home/uc651c1f4b4c7f15e851413c0d49c8fa/.local/lib/python3.9/site-packages (from unstructured[all-docs]->-r requirements.txt (line 20)) (1.2.0)\n",
      "Requirement already satisfied: python-magic in /home/uc651c1f4b4c7f15e851413c0d49c8fa/.local/lib/python3.9/site-packages (from unstructured[all-docs]->-r requirements.txt (line 20)) (0.4.27)\n",
      "Requirement already satisfied: tabulate in /home/uc651c1f4b4c7f15e851413c0d49c8fa/.local/lib/python3.9/site-packages (from unstructured[all-docs]->-r requirements.txt (line 20)) (0.9.0)\n",
      "Requirement already satisfied: emoji in /home/uc651c1f4b4c7f15e851413c0d49c8fa/.local/lib/python3.9/site-packages (from unstructured[all-docs]->-r requirements.txt (line 20)) (2.12.1)\n",
      "Requirement already satisfied: python-iso639 in /home/uc651c1f4b4c7f15e851413c0d49c8fa/.local/lib/python3.9/site-packages (from unstructured[all-docs]->-r requirements.txt (line 20)) (2024.4.27)\n",
      "Requirement already satisfied: langdetect in /home/uc651c1f4b4c7f15e851413c0d49c8fa/.local/lib/python3.9/site-packages (from unstructured[all-docs]->-r requirements.txt (line 20)) (1.0.9)\n",
      "Requirement already satisfied: rapidfuzz in /home/uc651c1f4b4c7f15e851413c0d49c8fa/.local/lib/python3.9/site-packages (from unstructured[all-docs]->-r requirements.txt (line 20)) (3.9.4)\n",
      "Requirement already satisfied: backoff in /home/uc651c1f4b4c7f15e851413c0d49c8fa/.local/lib/python3.9/site-packages (from unstructured[all-docs]->-r requirements.txt (line 20)) (1.11.1)\n",
      "Requirement already satisfied: unstructured-client in /home/uc651c1f4b4c7f15e851413c0d49c8fa/.local/lib/python3.9/site-packages (from unstructured[all-docs]->-r requirements.txt (line 20)) (0.23.8)\n",
      "Requirement already satisfied: wrapt in /home/uc651c1f4b4c7f15e851413c0d49c8fa/.local/lib/python3.9/site-packages (from unstructured[all-docs]->-r requirements.txt (line 20)) (1.16.0)\n",
      "Requirement already satisfied: pillow-heif in /home/uc651c1f4b4c7f15e851413c0d49c8fa/.local/lib/python3.9/site-packages (from unstructured[all-docs]->-r requirements.txt (line 20)) (0.17.0)\n",
      "Requirement already satisfied: pdf2image in /home/uc651c1f4b4c7f15e851413c0d49c8fa/.local/lib/python3.9/site-packages (from unstructured[all-docs]->-r requirements.txt (line 20)) (1.17.0)\n",
      "Requirement already satisfied: pikepdf in /home/uc651c1f4b4c7f15e851413c0d49c8fa/.local/lib/python3.9/site-packages (from unstructured[all-docs]->-r requirements.txt (line 20)) (9.0.0)\n",
      "Requirement already satisfied: pandas in /opt/intel/oneapi/intelpython/lib/python3.9/site-packages (from unstructured[all-docs]->-r requirements.txt (line 20)) (2.2.2)\n",
      "Requirement already satisfied: google-cloud-vision in /home/uc651c1f4b4c7f15e851413c0d49c8fa/.local/lib/python3.9/site-packages (from unstructured[all-docs]->-r requirements.txt (line 20)) (2.7.2)\n",
      "Requirement already satisfied: xlrd in /home/uc651c1f4b4c7f15e851413c0d49c8fa/.local/lib/python3.9/site-packages (from unstructured[all-docs]->-r requirements.txt (line 20)) (2.0.1)\n",
      "Requirement already satisfied: unstructured.pytesseract>=0.3.12 in /home/uc651c1f4b4c7f15e851413c0d49c8fa/.local/lib/python3.9/site-packages (from unstructured[all-docs]->-r requirements.txt (line 20)) (0.3.12)\n",
      "Requirement already satisfied: pypdf in /home/uc651c1f4b4c7f15e851413c0d49c8fa/.local/lib/python3.9/site-packages (from unstructured[all-docs]->-r requirements.txt (line 20)) (4.2.0)\n",
      "Requirement already satisfied: unstructured-inference==0.7.36 in /home/uc651c1f4b4c7f15e851413c0d49c8fa/.local/lib/python3.9/site-packages (from unstructured[all-docs]->-r requirements.txt (line 20)) (0.7.36)\n",
      "Requirement already satisfied: pypandoc in /home/uc651c1f4b4c7f15e851413c0d49c8fa/.local/lib/python3.9/site-packages (from unstructured[all-docs]->-r requirements.txt (line 20)) (1.13)\n",
      "Requirement already satisfied: effdet in /home/uc651c1f4b4c7f15e851413c0d49c8fa/.local/lib/python3.9/site-packages (from unstructured[all-docs]->-r requirements.txt (line 20)) (0.4.1)\n",
      "Requirement already satisfied: pytesseract in /home/uc651c1f4b4c7f15e851413c0d49c8fa/.local/lib/python3.9/site-packages (from unstructured[all-docs]->-r requirements.txt (line 20)) (0.3.10)\n",
      "Requirement already satisfied: python-oxmsg in /home/uc651c1f4b4c7f15e851413c0d49c8fa/.local/lib/python3.9/site-packages (from unstructured[all-docs]->-r requirements.txt (line 20)) (0.0.1)\n",
      "Requirement already satisfied: python-pptx<=0.6.23 in /home/uc651c1f4b4c7f15e851413c0d49c8fa/.local/lib/python3.9/site-packages (from unstructured[all-docs]->-r requirements.txt (line 20)) (0.6.23)\n",
      "Requirement already satisfied: pdfminer.six in /home/uc651c1f4b4c7f15e851413c0d49c8fa/.local/lib/python3.9/site-packages (from unstructured[all-docs]->-r requirements.txt (line 20)) (20231228)\n",
      "Requirement already satisfied: onnx in /home/uc651c1f4b4c7f15e851413c0d49c8fa/.local/lib/python3.9/site-packages (from unstructured[all-docs]->-r requirements.txt (line 20)) (1.16.1)\n",
      "Requirement already satisfied: layoutparser in /home/uc651c1f4b4c7f15e851413c0d49c8fa/.local/lib/python3.9/site-packages (from unstructured-inference==0.7.36->unstructured[all-docs]->-r requirements.txt (line 20)) (0.3.4)\n",
      "Requirement already satisfied: python-multipart in /home/uc651c1f4b4c7f15e851413c0d49c8fa/.local/lib/python3.9/site-packages (from unstructured-inference==0.7.36->unstructured[all-docs]->-r requirements.txt (line 20)) (0.0.9)\n",
      "Requirement already satisfied: opencv-python!=4.7.0.68 in /home/uc651c1f4b4c7f15e851413c0d49c8fa/.local/lib/python3.9/site-packages (from unstructured-inference==0.7.36->unstructured[all-docs]->-r requirements.txt (line 20)) (4.10.0.84)\n",
      "Requirement already satisfied: matplotlib in /opt/intel/oneapi/intelpython/lib/python3.9/site-packages (from unstructured-inference==0.7.36->unstructured[all-docs]->-r requirements.txt (line 20)) (3.8.2)\n",
      "Requirement already satisfied: timm in /home/uc651c1f4b4c7f15e851413c0d49c8fa/.local/lib/python3.9/site-packages (from unstructured-inference==0.7.36->unstructured[all-docs]->-r requirements.txt (line 20)) (1.0.7)\n",
      "Requirement already satisfied: psutil in /opt/intel/oneapi/intelpython/lib/python3.9/site-packages (from accelerate>=0.20.1->FlagEmbedding->-r requirements.txt (line 4)) (5.9.8)\n",
      "Requirement already satisfied: safetensors>=0.3.1 in /home/uc651c1f4b4c7f15e851413c0d49c8fa/.local/lib/python3.9/site-packages (from accelerate>=0.20.1->FlagEmbedding->-r requirements.txt (line 4)) (0.4.3)\n",
      "Requirement already satisfied: aiosignal>=1.1.2 in /home/uc651c1f4b4c7f15e851413c0d49c8fa/.local/lib/python3.9/site-packages (from aiohttp<4.0.0,>=3.8.3->langchain==0.1.11->-r requirements.txt (line 6)) (1.3.1)\n",
      "Requirement already satisfied: attrs>=17.3.0 in /opt/intel/oneapi/intelpython/lib/python3.9/site-packages (from aiohttp<4.0.0,>=3.8.3->langchain==0.1.11->-r requirements.txt (line 6)) (23.2.0)\n",
      "Requirement already satisfied: frozenlist>=1.1.1 in /home/uc651c1f4b4c7f15e851413c0d49c8fa/.local/lib/python3.9/site-packages (from aiohttp<4.0.0,>=3.8.3->langchain==0.1.11->-r requirements.txt (line 6)) (1.4.1)\n",
      "Requirement already satisfied: multidict<7.0,>=4.5 in /home/uc651c1f4b4c7f15e851413c0d49c8fa/.local/lib/python3.9/site-packages (from aiohttp<4.0.0,>=3.8.3->langchain==0.1.11->-r requirements.txt (line 6)) (6.0.5)\n",
      "Requirement already satisfied: yarl<2.0,>=1.0 in /home/uc651c1f4b4c7f15e851413c0d49c8fa/.local/lib/python3.9/site-packages (from aiohttp<4.0.0,>=3.8.3->langchain==0.1.11->-r requirements.txt (line 6)) (1.9.4)\n",
      "Requirement already satisfied: marshmallow<4.0.0,>=3.18.0 in /home/uc651c1f4b4c7f15e851413c0d49c8fa/.local/lib/python3.9/site-packages (from dataclasses-json<0.7,>=0.5.7->langchain==0.1.11->-r requirements.txt (line 6)) (3.21.3)\n",
      "Requirement already satisfied: typing-inspect<1,>=0.4.0 in /home/uc651c1f4b4c7f15e851413c0d49c8fa/.local/lib/python3.9/site-packages (from dataclasses-json<0.7,>=0.5.7->langchain==0.1.11->-r requirements.txt (line 6)) (0.9.0)\n",
      "Requirement already satisfied: starlette<0.38.0,>=0.37.2 in /home/uc651c1f4b4c7f15e851413c0d49c8fa/.local/lib/python3.9/site-packages (from fastapi>=0.95.2->chromadb==0.4.15->-r requirements.txt (line 2)) (0.37.2)\n",
      "Requirement already satisfied: fastapi-cli>=0.0.2 in /home/uc651c1f4b4c7f15e851413c0d49c8fa/.local/lib/python3.9/site-packages (from fastapi>=0.95.2->chromadb==0.4.15->-r requirements.txt (line 2)) (0.0.4)\n",
      "Requirement already satisfied: ujson!=4.0.2,!=4.1.0,!=4.2.0,!=4.3.0,!=5.0.0,!=5.1.0,>=4.0.1 in /home/uc651c1f4b4c7f15e851413c0d49c8fa/.local/lib/python3.9/site-packages (from fastapi>=0.95.2->chromadb==0.4.15->-r requirements.txt (line 2)) (5.10.0)\n",
      "Requirement already satisfied: orjson>=3.2.1 in /home/uc651c1f4b4c7f15e851413c0d49c8fa/.local/lib/python3.9/site-packages (from fastapi>=0.95.2->chromadb==0.4.15->-r requirements.txt (line 2)) (3.10.6)\n",
      "Requirement already satisfied: email_validator>=2.0.0 in /home/uc651c1f4b4c7f15e851413c0d49c8fa/.local/lib/python3.9/site-packages (from fastapi>=0.95.2->chromadb==0.4.15->-r requirements.txt (line 2)) (2.2.0)\n",
      "Requirement already satisfied: protobuf<6.0dev,>=5.26.1 in /home/uc651c1f4b4c7f15e851413c0d49c8fa/.local/lib/python3.9/site-packages (from grpcio-tools>=1.41.0->qdrant-client==1.9.0->-r requirements.txt (line 14)) (5.27.2)\n",
      "Requirement already satisfied: setuptools in /opt/intel/oneapi/intelpython/lib/python3.9/site-packages (from grpcio-tools>=1.41.0->qdrant-client==1.9.0->-r requirements.txt (line 14)) (69.1.0)\n",
      "Requirement already satisfied: anyio in /opt/intel/oneapi/intelpython/lib/python3.9/site-packages (from httpx>=0.20.0->httpx[http2]>=0.20.0->qdrant-client==1.9.0->-r requirements.txt (line 14)) (4.3.0)\n",
      "Requirement already satisfied: certifi in /opt/intel/oneapi/intelpython/lib/python3.9/site-packages (from httpx>=0.20.0->httpx[http2]>=0.20.0->qdrant-client==1.9.0->-r requirements.txt (line 14)) (2024.2.2)\n",
      "Requirement already satisfied: httpcore==1.* in /opt/intel/oneapi/intelpython/lib/python3.9/site-packages (from httpx>=0.20.0->httpx[http2]>=0.20.0->qdrant-client==1.9.0->-r requirements.txt (line 14)) (1.0.4)\n",
      "Requirement already satisfied: idna in /opt/intel/oneapi/intelpython/lib/python3.9/site-packages (from httpx>=0.20.0->httpx[http2]>=0.20.0->qdrant-client==1.9.0->-r requirements.txt (line 14)) (3.6)\n",
      "Requirement already satisfied: sniffio in /opt/intel/oneapi/intelpython/lib/python3.9/site-packages (from httpx>=0.20.0->httpx[http2]>=0.20.0->qdrant-client==1.9.0->-r requirements.txt (line 14)) (1.3.1)\n",
      "Requirement already satisfied: h11<0.15,>=0.13 in /opt/intel/oneapi/intelpython/lib/python3.9/site-packages (from httpcore==1.*->httpx>=0.20.0->httpx[http2]>=0.20.0->qdrant-client==1.9.0->-r requirements.txt (line 14)) (0.14.0)\n",
      "Requirement already satisfied: h2<5,>=3 in /opt/intel/oneapi/intelpython/lib/python3.9/site-packages (from httpx[http2]>=0.20.0->qdrant-client==1.9.0->-r requirements.txt (line 14)) (4.1.0)\n",
      "Requirement already satisfied: zipp>=0.5 in /opt/intel/oneapi/intelpython/lib/python3.9/site-packages (from importlib-metadata>=4.4->markdown->-r requirements.txt (line 10)) (3.17.0)\n",
      "Requirement already satisfied: MarkupSafe>=2.0 in /opt/intel/oneapi/intelpython/lib/python3.9/site-packages (from jinja2->torch==2.3.0->-r requirements.txt (line 18)) (2.1.4)\n",
      "Requirement already satisfied: jsonpointer>=1.9 in /opt/intel/oneapi/intelpython/lib/python3.9/site-packages (from jsonpatch<2.0,>=1.33->langchain==0.1.11->-r requirements.txt (line 6)) (2.4)\n",
      "Requirement already satisfied: six>=1.9.0 in /opt/intel/oneapi/intelpython/lib/python3.9/site-packages (from kubernetes>=28.1.0->chromadb==0.4.15->-r requirements.txt (line 2)) (1.16.0)\n",
      "Requirement already satisfied: python-dateutil>=2.5.3 in /opt/intel/oneapi/intelpython/lib/python3.9/site-packages (from kubernetes>=28.1.0->chromadb==0.4.15->-r requirements.txt (line 2)) (2.8.2)\n",
      "Requirement already satisfied: google-auth>=1.0.1 in /home/uc651c1f4b4c7f15e851413c0d49c8fa/.local/lib/python3.9/site-packages (from kubernetes>=28.1.0->chromadb==0.4.15->-r requirements.txt (line 2)) (2.31.0)\n",
      "Requirement already satisfied: websocket-client!=0.40.0,!=0.41.*,!=0.42.*,>=0.32.0 in /opt/intel/oneapi/intelpython/lib/python3.9/site-packages (from kubernetes>=28.1.0->chromadb==0.4.15->-r requirements.txt (line 2)) (1.7.0)\n",
      "Requirement already satisfied: requests-oauthlib in /home/uc651c1f4b4c7f15e851413c0d49c8fa/.local/lib/python3.9/site-packages (from kubernetes>=28.1.0->chromadb==0.4.15->-r requirements.txt (line 2)) (2.0.0)\n",
      "Requirement already satisfied: oauthlib>=3.2.2 in /home/uc651c1f4b4c7f15e851413c0d49c8fa/.local/lib/python3.9/site-packages (from kubernetes>=28.1.0->chromadb==0.4.15->-r requirements.txt (line 2)) (3.2.2)\n",
      "Requirement already satisfied: coloredlogs in /home/uc651c1f4b4c7f15e851413c0d49c8fa/.local/lib/python3.9/site-packages (from onnxruntime>=1.14.1->chromadb==0.4.15->-r requirements.txt (line 2)) (15.0.1)\n",
      "Requirement already satisfied: flatbuffers in /home/uc651c1f4b4c7f15e851413c0d49c8fa/.local/lib/python3.9/site-packages (from onnxruntime>=1.14.1->chromadb==0.4.15->-r requirements.txt (line 2)) (24.3.25)\n",
      "Requirement already satisfied: deprecated>=1.2.6 in /home/uc651c1f4b4c7f15e851413c0d49c8fa/.local/lib/python3.9/site-packages (from opentelemetry-api>=1.2.0->chromadb==0.4.15->-r requirements.txt (line 2)) (1.2.14)\n",
      "Requirement already satisfied: googleapis-common-protos~=1.52 in /home/uc651c1f4b4c7f15e851413c0d49c8fa/.local/lib/python3.9/site-packages (from opentelemetry-exporter-otlp-proto-grpc>=1.2.0->chromadb==0.4.15->-r requirements.txt (line 2)) (1.63.2)\n",
      "Requirement already satisfied: opentelemetry-proto==1.11.1 in /home/uc651c1f4b4c7f15e851413c0d49c8fa/.local/lib/python3.9/site-packages (from opentelemetry-exporter-otlp-proto-grpc>=1.2.0->chromadb==0.4.15->-r requirements.txt (line 2)) (1.11.1)\n",
      "Requirement already satisfied: opentelemetry-semantic-conventions==0.46b0 in /home/uc651c1f4b4c7f15e851413c0d49c8fa/.local/lib/python3.9/site-packages (from opentelemetry-sdk>=1.2.0->chromadb==0.4.15->-r requirements.txt (line 2)) (0.46b0)\n",
      "Requirement already satisfied: monotonic>=1.5 in /home/uc651c1f4b4c7f15e851413c0d49c8fa/.local/lib/python3.9/site-packages (from posthog>=2.4.0->chromadb==0.4.15->-r requirements.txt (line 2)) (1.6)\n",
      "Requirement already satisfied: XlsxWriter>=0.5.7 in /home/uc651c1f4b4c7f15e851413c0d49c8fa/.local/lib/python3.9/site-packages (from python-pptx<=0.6.23->unstructured[all-docs]->-r requirements.txt (line 20)) (3.2.0)\n",
      "Requirement already satisfied: charset-normalizer<4,>=2 in /opt/intel/oneapi/intelpython/lib/python3.9/site-packages (from requests>=2.28->chromadb==0.4.15->-r requirements.txt (line 2)) (3.3.2)\n",
      "Requirement already satisfied: greenlet!=0.4.17 in /home/uc651c1f4b4c7f15e851413c0d49c8fa/.local/lib/python3.9/site-packages (from SQLAlchemy<3,>=1.4->langchain==0.1.11->-r requirements.txt (line 6)) (3.0.3)\n",
      "Requirement already satisfied: regex!=2019.12.17 in /home/uc651c1f4b4c7f15e851413c0d49c8fa/.local/lib/python3.9/site-packages (from transformers<5.0.0,>=4.32.0->sentence-transformers==2.3.1->-r requirements.txt (line 17)) (2024.5.15)\n",
      "Requirement already satisfied: click>=8.0.0 in /home/uc651c1f4b4c7f15e851413c0d49c8fa/.local/lib/python3.9/site-packages (from typer>=0.9.0->chromadb==0.4.15->-r requirements.txt (line 2)) (8.1.7)\n",
      "Requirement already satisfied: shellingham>=1.3.0 in /home/uc651c1f4b4c7f15e851413c0d49c8fa/.local/lib/python3.9/site-packages (from typer>=0.9.0->chromadb==0.4.15->-r requirements.txt (line 2)) (1.5.4)\n",
      "Requirement already satisfied: rich>=10.11.0 in /home/uc651c1f4b4c7f15e851413c0d49c8fa/.local/lib/python3.9/site-packages (from typer>=0.9.0->chromadb==0.4.15->-r requirements.txt (line 2)) (13.7.1)\n",
      "Requirement already satisfied: httptools>=0.5.0 in /home/uc651c1f4b4c7f15e851413c0d49c8fa/.local/lib/python3.9/site-packages (from uvicorn[standard]>=0.18.3->chromadb==0.4.15->-r requirements.txt (line 2)) (0.6.1)\n",
      "Requirement already satisfied: python-dotenv>=0.13 in /home/uc651c1f4b4c7f15e851413c0d49c8fa/.local/lib/python3.9/site-packages (from uvicorn[standard]>=0.18.3->chromadb==0.4.15->-r requirements.txt (line 2)) (1.0.1)\n",
      "Requirement already satisfied: uvloop!=0.15.0,!=0.15.1,>=0.14.0 in /home/uc651c1f4b4c7f15e851413c0d49c8fa/.local/lib/python3.9/site-packages (from uvicorn[standard]>=0.18.3->chromadb==0.4.15->-r requirements.txt (line 2)) (0.19.0)\n",
      "Requirement already satisfied: watchfiles>=0.13 in /home/uc651c1f4b4c7f15e851413c0d49c8fa/.local/lib/python3.9/site-packages (from uvicorn[standard]>=0.18.3->chromadb==0.4.15->-r requirements.txt (line 2)) (0.22.0)\n",
      "Requirement already satisfied: websockets>=10.4 in /home/uc651c1f4b4c7f15e851413c0d49c8fa/.local/lib/python3.9/site-packages (from uvicorn[standard]>=0.18.3->chromadb==0.4.15->-r requirements.txt (line 2)) (12.0)\n",
      "Requirement already satisfied: pyarrow>=15.0.0 in /home/uc651c1f4b4c7f15e851413c0d49c8fa/.local/lib/python3.9/site-packages (from datasets->FlagEmbedding->-r requirements.txt (line 4)) (16.1.0)\n",
      "Requirement already satisfied: pyarrow-hotfix in /home/uc651c1f4b4c7f15e851413c0d49c8fa/.local/lib/python3.9/site-packages (from datasets->FlagEmbedding->-r requirements.txt (line 4)) (0.6)\n",
      "Requirement already satisfied: dill<0.3.9,>=0.3.0 in /home/uc651c1f4b4c7f15e851413c0d49c8fa/.local/lib/python3.9/site-packages (from datasets->FlagEmbedding->-r requirements.txt (line 4)) (0.3.8)\n",
      "Requirement already satisfied: xxhash in /home/uc651c1f4b4c7f15e851413c0d49c8fa/.local/lib/python3.9/site-packages (from datasets->FlagEmbedding->-r requirements.txt (line 4)) (3.4.1)\n",
      "Requirement already satisfied: multiprocess in /home/uc651c1f4b4c7f15e851413c0d49c8fa/.local/lib/python3.9/site-packages (from datasets->FlagEmbedding->-r requirements.txt (line 4)) (0.70.16)\n",
      "Requirement already satisfied: pycocotools>=2.0.2 in /home/uc651c1f4b4c7f15e851413c0d49c8fa/.local/lib/python3.9/site-packages (from effdet->unstructured[all-docs]->-r requirements.txt (line 20)) (2.0.8)\n",
      "Requirement already satisfied: omegaconf>=2.0 in /home/uc651c1f4b4c7f15e851413c0d49c8fa/.local/lib/python3.9/site-packages (from effdet->unstructured[all-docs]->-r requirements.txt (line 20)) (2.3.0)\n",
      "Requirement already satisfied: google-api-core!=2.0.*,!=2.1.*,!=2.2.*,!=2.3.0,<3.0.0dev,>=1.31.5 in /home/uc651c1f4b4c7f15e851413c0d49c8fa/.local/lib/python3.9/site-packages (from google-api-core[grpc]!=2.0.*,!=2.1.*,!=2.2.*,!=2.3.0,<3.0.0dev,>=1.31.5->google-cloud-vision->unstructured[all-docs]->-r requirements.txt (line 20)) (2.19.1)\n",
      "Requirement already satisfied: proto-plus>=1.15.0 in /home/uc651c1f4b4c7f15e851413c0d49c8fa/.local/lib/python3.9/site-packages (from google-cloud-vision->unstructured[all-docs]->-r requirements.txt (line 20)) (1.24.0)\n",
      "Requirement already satisfied: pytz>=2020.1 in /opt/intel/oneapi/intelpython/lib/python3.9/site-packages (from pandas->unstructured[all-docs]->-r requirements.txt (line 20)) (2024.1)\n",
      "Requirement already satisfied: tzdata>=2022.7 in /opt/intel/oneapi/intelpython/lib/python3.9/site-packages (from pandas->unstructured[all-docs]->-r requirements.txt (line 20)) (2023.4)\n",
      "Requirement already satisfied: cryptography>=36.0.0 in /opt/intel/oneapi/intelpython/lib/python3.9/site-packages (from pdfminer.six->unstructured[all-docs]->-r requirements.txt (line 20)) (41.0.4)\n",
      "Requirement already satisfied: olefile in /home/uc651c1f4b4c7f15e851413c0d49c8fa/.local/lib/python3.9/site-packages (from python-oxmsg->unstructured[all-docs]->-r requirements.txt (line 20)) (0.47)\n",
      "Requirement already satisfied: imageio>=2.33 in /home/uc651c1f4b4c7f15e851413c0d49c8fa/.local/lib/python3.9/site-packages (from scikit-image->easyocr->-r requirements.txt (line 3)) (2.34.2)\n",
      "Requirement already satisfied: tifffile>=2022.8.12 in /home/uc651c1f4b4c7f15e851413c0d49c8fa/.local/lib/python3.9/site-packages (from scikit-image->easyocr->-r requirements.txt (line 3)) (2024.7.2)\n",
      "Requirement already satisfied: lazy-loader>=0.4 in /home/uc651c1f4b4c7f15e851413c0d49c8fa/.local/lib/python3.9/site-packages (from scikit-image->easyocr->-r requirements.txt (line 3)) (0.4)\n",
      "Requirement already satisfied: mpmath<1.4.0,>=1.1.0 in /home/uc651c1f4b4c7f15e851413c0d49c8fa/.local/lib/python3.9/site-packages (from sympy->torch==2.3.0->-r requirements.txt (line 18)) (1.3.0)\n",
      "Requirement already satisfied: deepdiff>=6.0 in /home/uc651c1f4b4c7f15e851413c0d49c8fa/.local/lib/python3.9/site-packages (from unstructured-client->unstructured[all-docs]->-r requirements.txt (line 20)) (7.0.1)\n",
      "Requirement already satisfied: jsonpath-python>=1.0.6 in /home/uc651c1f4b4c7f15e851413c0d49c8fa/.local/lib/python3.9/site-packages (from unstructured-client->unstructured[all-docs]->-r requirements.txt (line 20)) (1.0.6)\n",
      "Requirement already satisfied: mypy-extensions>=1.0.0 in /home/uc651c1f4b4c7f15e851413c0d49c8fa/.local/lib/python3.9/site-packages (from unstructured-client->unstructured[all-docs]->-r requirements.txt (line 20)) (1.0.0)\n",
      "Requirement already satisfied: nest-asyncio>=1.6.0 in /opt/intel/oneapi/intelpython/lib/python3.9/site-packages (from unstructured-client->unstructured[all-docs]->-r requirements.txt (line 20)) (1.6.0)\n",
      "Requirement already satisfied: requests-toolbelt>=1.0.0 in /home/uc651c1f4b4c7f15e851413c0d49c8fa/.local/lib/python3.9/site-packages (from unstructured-client->unstructured[all-docs]->-r requirements.txt (line 20)) (1.0.0)\n",
      "Requirement already satisfied: cffi>=1.12 in /opt/intel/oneapi/intelpython/lib/python3.9/site-packages (from cryptography>=36.0.0->pdfminer.six->unstructured[all-docs]->-r requirements.txt (line 20)) (1.16.0)\n",
      "Requirement already satisfied: ordered-set<4.2.0,>=4.1.0 in /home/uc651c1f4b4c7f15e851413c0d49c8fa/.local/lib/python3.9/site-packages (from deepdiff>=6.0->unstructured-client->unstructured[all-docs]->-r requirements.txt (line 20)) (4.1.0)\n",
      "Requirement already satisfied: dnspython>=2.0.0 in /home/uc651c1f4b4c7f15e851413c0d49c8fa/.local/lib/python3.9/site-packages (from email_validator>=2.0.0->fastapi>=0.95.2->chromadb==0.4.15->-r requirements.txt (line 2)) (2.6.1)\n",
      "Requirement already satisfied: grpcio-status<2.0.dev0,>=1.33.2 in /home/uc651c1f4b4c7f15e851413c0d49c8fa/.local/lib/python3.9/site-packages (from google-api-core[grpc]!=2.0.*,!=2.1.*,!=2.2.*,!=2.3.0,<3.0.0dev,>=1.31.5->google-cloud-vision->unstructured[all-docs]->-r requirements.txt (line 20)) (1.64.1)\n",
      "Requirement already satisfied: cachetools<6.0,>=2.0.0 in /home/uc651c1f4b4c7f15e851413c0d49c8fa/.local/lib/python3.9/site-packages (from google-auth>=1.0.1->kubernetes>=28.1.0->chromadb==0.4.15->-r requirements.txt (line 2)) (5.3.3)\n",
      "Requirement already satisfied: pyasn1-modules>=0.2.1 in /home/uc651c1f4b4c7f15e851413c0d49c8fa/.local/lib/python3.9/site-packages (from google-auth>=1.0.1->kubernetes>=28.1.0->chromadb==0.4.15->-r requirements.txt (line 2)) (0.4.0)\n",
      "Requirement already satisfied: rsa<5,>=3.1.4 in /home/uc651c1f4b4c7f15e851413c0d49c8fa/.local/lib/python3.9/site-packages (from google-auth>=1.0.1->kubernetes>=28.1.0->chromadb==0.4.15->-r requirements.txt (line 2)) (4.9)\n",
      "Requirement already satisfied: hyperframe<7,>=6.0 in /opt/intel/oneapi/intelpython/lib/python3.9/site-packages (from h2<5,>=3->httpx[http2]>=0.20.0->qdrant-client==1.9.0->-r requirements.txt (line 14)) (6.0.1)\n",
      "Requirement already satisfied: hpack<5,>=4.0 in /opt/intel/oneapi/intelpython/lib/python3.9/site-packages (from h2<5,>=3->httpx[http2]>=0.20.0->qdrant-client==1.9.0->-r requirements.txt (line 14)) (4.0.0)\n",
      "Requirement already satisfied: antlr4-python3-runtime==4.9.* in /home/uc651c1f4b4c7f15e851413c0d49c8fa/.local/lib/python3.9/site-packages (from omegaconf>=2.0->effdet->unstructured[all-docs]->-r requirements.txt (line 20)) (4.9.3)\n",
      "Requirement already satisfied: contourpy>=1.0.1 in /opt/intel/oneapi/intelpython/lib/python3.9/site-packages (from matplotlib->unstructured-inference==0.7.36->unstructured[all-docs]->-r requirements.txt (line 20)) (1.2.0)\n",
      "Requirement already satisfied: cycler>=0.10 in /opt/intel/oneapi/intelpython/lib/python3.9/site-packages (from matplotlib->unstructured-inference==0.7.36->unstructured[all-docs]->-r requirements.txt (line 20)) (0.12.1)\n",
      "Requirement already satisfied: fonttools>=4.22.0 in /opt/intel/oneapi/intelpython/lib/python3.9/site-packages (from matplotlib->unstructured-inference==0.7.36->unstructured[all-docs]->-r requirements.txt (line 20)) (4.47.2)\n",
      "Requirement already satisfied: kiwisolver>=1.3.1 in /opt/intel/oneapi/intelpython/lib/python3.9/site-packages (from matplotlib->unstructured-inference==0.7.36->unstructured[all-docs]->-r requirements.txt (line 20)) (1.4.5)\n",
      "Requirement already satisfied: pyparsing>=2.3.1 in /opt/intel/oneapi/intelpython/lib/python3.9/site-packages (from matplotlib->unstructured-inference==0.7.36->unstructured[all-docs]->-r requirements.txt (line 20)) (3.1.1)\n",
      "Requirement already satisfied: markdown-it-py>=2.2.0 in /home/uc651c1f4b4c7f15e851413c0d49c8fa/.local/lib/python3.9/site-packages (from rich>=10.11.0->typer>=0.9.0->chromadb==0.4.15->-r requirements.txt (line 2)) (3.0.0)\n",
      "Requirement already satisfied: pygments<3.0.0,>=2.13.0 in /opt/intel/oneapi/intelpython/lib/python3.9/site-packages (from rich>=10.11.0->typer>=0.9.0->chromadb==0.4.15->-r requirements.txt (line 2)) (2.17.2)\n",
      "Requirement already satisfied: exceptiongroup>=1.0.2 in /opt/intel/oneapi/intelpython/lib/python3.9/site-packages (from anyio->httpx>=0.20.0->httpx[http2]>=0.20.0->qdrant-client==1.9.0->-r requirements.txt (line 14)) (1.2.0)\n",
      "Requirement already satisfied: humanfriendly>=9.1 in /home/uc651c1f4b4c7f15e851413c0d49c8fa/.local/lib/python3.9/site-packages (from coloredlogs->onnxruntime>=1.14.1->chromadb==0.4.15->-r requirements.txt (line 2)) (10.0)\n",
      "Requirement already satisfied: iopath in /home/uc651c1f4b4c7f15e851413c0d49c8fa/.local/lib/python3.9/site-packages (from layoutparser->unstructured-inference==0.7.36->unstructured[all-docs]->-r requirements.txt (line 20)) (0.1.10)\n",
      "Requirement already satisfied: pdfplumber in /home/uc651c1f4b4c7f15e851413c0d49c8fa/.local/lib/python3.9/site-packages (from layoutparser->unstructured-inference==0.7.36->unstructured[all-docs]->-r requirements.txt (line 20)) (0.11.2)\n",
      "Requirement already satisfied: pycparser in /opt/intel/oneapi/intelpython/lib/python3.9/site-packages (from cffi>=1.12->cryptography>=36.0.0->pdfminer.six->unstructured[all-docs]->-r requirements.txt (line 20)) (2.21)\n",
      "Requirement already satisfied: mdurl~=0.1 in /home/uc651c1f4b4c7f15e851413c0d49c8fa/.local/lib/python3.9/site-packages (from markdown-it-py>=2.2.0->rich>=10.11.0->typer>=0.9.0->chromadb==0.4.15->-r requirements.txt (line 2)) (0.1.2)\n",
      "Requirement already satisfied: pyasn1<0.7.0,>=0.4.6 in /home/uc651c1f4b4c7f15e851413c0d49c8fa/.local/lib/python3.9/site-packages (from pyasn1-modules>=0.2.1->google-auth>=1.0.1->kubernetes>=28.1.0->chromadb==0.4.15->-r requirements.txt (line 2)) (0.6.0)\n",
      "Requirement already satisfied: pypdfium2>=4.18.0 in /home/uc651c1f4b4c7f15e851413c0d49c8fa/.local/lib/python3.9/site-packages (from pdfplumber->layoutparser->unstructured-inference==0.7.36->unstructured[all-docs]->-r requirements.txt (line 20)) (4.30.0)\n",
      "/home/uc651c1f4b4c7f15e851413c0d49c8fa/Training/AI/GenAI/intel-extension-for-transformers/intel_extension_for_transformers/neural_chat/docs/notebooks\n"
     ]
    }
   ],
   "source": [
    "%cd ./intel-extension-for-transformers/intel_extension_for_transformers/neural_chat/pipeline/plugins/retrieval/\n",
    "!pip install -r requirements.txt\n",
    "%cd ../../../../../../"
   ]
  },
  {
   "cell_type": "code",
   "execution_count": 2,
   "metadata": {},
   "outputs": [
    {
     "name": "stdout",
     "output_type": "stream",
     "text": [
      "mkdir: cannot create directory ‘docs’: File exists\n",
      "/home/uc651c1f4b4c7f15e851413c0d49c8fa/Training/AI/GenAI/intel-extension-for-transformers/intel_extension_for_transformers/neural_chat/docs/notebooks/docs\n",
      "  % Total    % Received % Xferd  Average Speed   Time    Time     Time  Current\n",
      "                                 Dload  Upload   Total   Spent    Left  Speed\n",
      "100   854  100   854    0     0   4228      0 --:--:-- --:--:-- --:--:--  4248\n",
      "  % Total    % Received % Xferd  Average Speed   Time    Time     Time  Current\n",
      "                                 Dload  Upload   Total   Spent    Left  Speed\n",
      "100    59  100    59    0     0    296      0 --:--:-- --:--:-- --:--:--   297\n",
      "  % Total    % Received % Xferd  Average Speed   Time    Time     Time  Current\n",
      "                                 Dload  Upload   Total   Spent    Left  Speed\n",
      "100  8577  100  8577    0     0  29098      0 --:--:-- --:--:-- --:--:-- 29173\n",
      "/home/uc651c1f4b4c7f15e851413c0d49c8fa/Training/AI/GenAI/intel-extension-for-transformers/intel_extension_for_transformers/neural_chat/docs/notebooks\n"
     ]
    }
   ],
   "source": [
    "!mkdir docs\n",
    "%cd docs\n",
    "!curl -OL https://raw.githubusercontent.com/intel/intel-extension-for-transformers/main/intel_extension_for_transformers/neural_chat/assets/docs/sample.jsonl\n",
    "!curl -OL https://raw.githubusercontent.com/intel/intel-extension-for-transformers/main/intel_extension_for_transformers/neural_chat/assets/docs/sample.txt\n",
    "!curl -OL https://raw.githubusercontent.com/intel/intel-extension-for-transformers/main/intel_extension_for_transformers/neural_chat/assets/docs/sample.xlsx\n",
    "%cd .."
   ]
  },
  {
   "cell_type": "code",
   "execution_count": 3,
   "metadata": {},
   "outputs": [
    {
     "name": "stderr",
     "output_type": "stream",
     "text": [
      "/home/uc651c1f4b4c7f15e851413c0d49c8fa/Training/AI/GenAI/intel-extension-for-transformers/intel_extension_for_transformers/neural_chat/docs/notebooks/itrex-1/lib/python3.10/site-packages/transformers/deepspeed.py:24: FutureWarning: transformers.deepspeed module is deprecated and will be removed in a future version. Please import deepspeed modules directly from transformers.integrations\n",
      "  warnings.warn(\n"
     ]
    },
    {
     "name": "stdout",
     "output_type": "stream",
     "text": [
      "create retrieval plugin instance...\n",
      "plugin parameters:  {'input_path': './docs/'}\n"
     ]
    },
    {
     "name": "stderr",
     "output_type": "stream",
     "text": [
      "/home/uc651c1f4b4c7f15e851413c0d49c8fa/Training/AI/GenAI/intel-extension-for-transformers/intel_extension_for_transformers/neural_chat/docs/notebooks/itrex-1/lib/python3.10/site-packages/huggingface_hub/file_download.py:1132: FutureWarning: `resume_download` is deprecated and will be removed in version 1.0.0. Downloads always resume when possible. If you want to force a new download, use `force_download=True`.\n",
      "  warnings.warn(\n",
      "2024-07-14 12:10:40,907 - error_utils.py - intel_extension_for_transformers.neural_chat.utils.error_utils - ERROR - neuralchat error: Generic error\n",
      "2024-07-14 12:10:40,909 - chatbot.py - intel_extension_for_transformers.neural_chat.chatbot - ERROR - build_chatbot: plugin init failed\n"
     ]
    },
    {
     "ename": "AttributeError",
     "evalue": "'NoneType' object has no attribute 'predict'",
     "output_type": "error",
     "traceback": [
      "\u001b[0;31m---------------------------------------------------------------------------\u001b[0m",
      "\u001b[0;31mAttributeError\u001b[0m                            Traceback (most recent call last)",
      "Cell \u001b[0;32mIn[3], line 8\u001b[0m\n\u001b[1;32m      6\u001b[0m config \u001b[38;5;241m=\u001b[39m PipelineConfig(plugins\u001b[38;5;241m=\u001b[39mplugins)\n\u001b[1;32m      7\u001b[0m chatbot \u001b[38;5;241m=\u001b[39m build_chatbot(config)\n\u001b[0;32m----> 8\u001b[0m response \u001b[38;5;241m=\u001b[39m \u001b[43mchatbot\u001b[49m\u001b[38;5;241;43m.\u001b[39;49m\u001b[43mpredict\u001b[49m(\u001b[38;5;124m\"\u001b[39m\u001b[38;5;124mHow many cores does the Intel® Xeon® Platinum 8480+ Processor have in total?\u001b[39m\u001b[38;5;124m\"\u001b[39m)\n\u001b[1;32m      9\u001b[0m \u001b[38;5;28mprint\u001b[39m(response)\n",
      "\u001b[0;31mAttributeError\u001b[0m: 'NoneType' object has no attribute 'predict'"
     ]
    }
   ],
   "source": [
    "from intel_extension_for_transformers.neural_chat import PipelineConfig\n",
    "from intel_extension_for_transformers.neural_chat import build_chatbot\n",
    "from intel_extension_for_transformers.neural_chat import plugins\n",
    "plugins.retrieval.enable=True\n",
    "plugins.retrieval.args[\"input_path\"]=\"./docs/\"\n",
    "config = PipelineConfig(plugins=plugins)\n",
    "chatbot = build_chatbot(config)\n",
    "response = chatbot.predict(\"How many cores does the Intel® Xeon® Platinum 8480+ Processor have in total?\")\n",
    "print(response)"
   ]
  },
  {
   "cell_type": "markdown",
   "metadata": {},
   "source": [
    "## Voice Chat with ASR & TTS Plugin"
   ]
  },
  {
   "cell_type": "markdown",
   "metadata": {},
   "source": [
    "In the context of voice chat, users have the option to engage in various modes: utilizing input audio and receiving output audio, employing input audio and receiving textual output, or providing input in textual form and receiving audio output.\n",
    "\n",
    "For the Python API code, users have the option to enable different voice chat modes by setting ASR and TTS plugins enable or disable."
   ]
  },
  {
   "cell_type": "code",
   "execution_count": null,
   "metadata": {
    "scrolled": true
   },
   "outputs": [],
   "source": [
    "%cd ./intel-extension-for-transformers/intel_extension_for_transformers/neural_chat/pipeline/plugins/audio/\n",
    "!pip install -r requirements.txt\n",
    "%cd ../../../../../../"
   ]
  },
  {
   "cell_type": "code",
   "execution_count": null,
   "metadata": {
    "scrolled": true
   },
   "outputs": [],
   "source": [
    "!curl -OL https://raw.githubusercontent.com/intel/intel-extension-for-transformers/main/intel_extension_for_transformers/neural_chat/assets/speaker_embeddings/spk_embed_default.pt\n",
    "!curl -OL https://raw.githubusercontent.com/intel/intel-extension-for-transformers/main/intel_extension_for_transformers/neural_chat/assets/audio/sample.wav"
   ]
  },
  {
   "cell_type": "code",
   "execution_count": null,
   "metadata": {},
   "outputs": [],
   "source": [
    "from intel_extension_for_transformers.neural_chat import PipelineConfig\n",
    "from intel_extension_for_transformers.neural_chat import build_chatbot\n",
    "from intel_extension_for_transformers.neural_chat import plugins\n",
    "plugins.tts.enable = True\n",
    "plugins.tts.args[\"output_audio_path\"] = \"./response.wav\"\n",
    "plugins.asr.enable = True\n",
    "\n",
    "config = PipelineConfig(plugins=plugins)\n",
    "chatbot = build_chatbot(config)\n",
    "result = chatbot.predict(query=\"./sample.wav\")\n",
    "print(result)"
   ]
  },
  {
   "cell_type": "markdown",
   "metadata": {},
   "source": [
    "# Low Precision Optimization"
   ]
  },
  {
   "cell_type": "markdown",
   "metadata": {},
   "source": [
    "## BF16"
   ]
  },
  {
   "cell_type": "code",
   "execution_count": null,
   "metadata": {},
   "outputs": [],
   "source": [
    "# BF16 Optimization\n",
    "from intel_extension_for_transformers.neural_chat.config import PipelineConfig\n",
    "from intel_extension_for_transformers.transformers import MixedPrecisionConfig\n",
    "config = PipelineConfig(optimization_config=MixedPrecisionConfig())\n",
    "chatbot = build_chatbot(config)\n",
    "response = chatbot.predict(query=\"Tell me about Intel Xeon Scalable Processors.\")\n",
    "print(response)"
   ]
  }
 ],
 "metadata": {
  "kernelspec": {
   "display_name": "neural-chat-1",
   "language": "python",
   "name": "neural-chat-1"
  },
  "language_info": {
   "codemirror_mode": {
    "name": "ipython",
    "version": 3
   },
   "file_extension": ".py",
   "mimetype": "text/x-python",
   "name": "python",
   "nbconvert_exporter": "python",
   "pygments_lexer": "ipython3",
   "version": "3.10.12"
  }
 },
 "nbformat": 4,
 "nbformat_minor": 4
}
